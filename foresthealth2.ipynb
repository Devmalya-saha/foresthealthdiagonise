{
 "cells": [
  {
   "cell_type": "code",
   "execution_count": 2,
   "id": "ebeae78f",
   "metadata": {},
   "outputs": [
    {
     "name": "stdout",
     "output_type": "stream",
     "text": [
      "Requirement already satisfied: albumentations in c:\\users\\user\\anaconda3\\lib\\site-packages (1.4.16)\n",
      "Collecting albumentations\n",
      "  Downloading albumentations-1.4.18-py3-none-any.whl (224 kB)\n",
      "     -------------------------------------- 224.0/224.0 kB 1.2 MB/s eta 0:00:00\n",
      "Requirement already satisfied: scipy>=1.10.0 in c:\\users\\user\\anaconda3\\lib\\site-packages (from albumentations) (1.13.1)\n",
      "Requirement already satisfied: numpy>=1.24.4 in c:\\users\\user\\anaconda3\\lib\\site-packages (from albumentations) (1.26.4)\n",
      "Requirement already satisfied: pydantic>=2.7.0 in c:\\users\\user\\anaconda3\\lib\\site-packages (from albumentations) (2.9.2)\n",
      "Requirement already satisfied: opencv-python-headless>=4.9.0.80 in c:\\users\\user\\anaconda3\\lib\\site-packages (from albumentations) (4.10.0.84)\n",
      "Requirement already satisfied: scikit-image>=0.21.0 in c:\\users\\user\\anaconda3\\lib\\site-packages (from albumentations) (0.24.0)\n",
      "Requirement already satisfied: PyYAML in c:\\users\\user\\anaconda3\\lib\\site-packages (from albumentations) (6.0)\n",
      "Requirement already satisfied: eval-type-backport in c:\\users\\user\\anaconda3\\lib\\site-packages (from albumentations) (0.2.0)\n",
      "Requirement already satisfied: typing-extensions>=4.9.0 in c:\\users\\user\\anaconda3\\lib\\site-packages (from albumentations) (4.12.2)\n",
      "Requirement already satisfied: albucore==0.0.17 in c:\\users\\user\\anaconda3\\lib\\site-packages (from albumentations) (0.0.17)\n",
      "Requirement already satisfied: pydantic-core==2.23.4 in c:\\users\\user\\anaconda3\\lib\\site-packages (from pydantic>=2.7.0->albumentations) (2.23.4)\n",
      "Requirement already satisfied: annotated-types>=0.6.0 in c:\\users\\user\\anaconda3\\lib\\site-packages (from pydantic>=2.7.0->albumentations) (0.7.0)\n",
      "Requirement already satisfied: packaging>=21 in c:\\users\\user\\anaconda3\\lib\\site-packages (from scikit-image>=0.21.0->albumentations) (21.3)\n",
      "Requirement already satisfied: tifffile>=2022.8.12 in c:\\users\\user\\anaconda3\\lib\\site-packages (from scikit-image>=0.21.0->albumentations) (2024.8.30)\n",
      "Requirement already satisfied: networkx>=2.8 in c:\\users\\user\\anaconda3\\lib\\site-packages (from scikit-image>=0.21.0->albumentations) (2.8.4)\n",
      "Requirement already satisfied: imageio>=2.33 in c:\\users\\user\\anaconda3\\lib\\site-packages (from scikit-image>=0.21.0->albumentations) (2.35.1)\n",
      "Requirement already satisfied: pillow>=9.1 in c:\\users\\user\\anaconda3\\lib\\site-packages (from scikit-image>=0.21.0->albumentations) (9.2.0)\n",
      "Requirement already satisfied: lazy-loader>=0.4 in c:\\users\\user\\appdata\\roaming\\python\\python39\\site-packages (from scikit-image>=0.21.0->albumentations) (0.4)\n",
      "Requirement already satisfied: pyparsing!=3.0.5,>=2.0.2 in c:\\users\\user\\anaconda3\\lib\\site-packages (from packaging>=21->scikit-image>=0.21.0->albumentations) (3.0.9)\n",
      "Installing collected packages: albumentations\n",
      "  Attempting uninstall: albumentations\n",
      "    Found existing installation: albumentations 1.4.16\n",
      "    Uninstalling albumentations-1.4.16:\n",
      "      Successfully uninstalled albumentations-1.4.16\n",
      "Successfully installed albumentations-1.4.18\n"
     ]
    }
   ],
   "source": [
    "!pip install -U albumentations"
   ]
  },
  {
   "cell_type": "code",
   "execution_count": 2,
   "id": "c0707cb2",
   "metadata": {},
   "outputs": [
    {
     "name": "stdout",
     "output_type": "stream",
     "text": [
      "Requirement already satisfied: paramiko in c:\\users\\user\\anaconda3\\lib\\site-packages (2.8.1)\n",
      "Collecting paramiko\n",
      "  Downloading paramiko-3.5.0-py3-none-any.whl (227 kB)\n",
      "     -------------------------------------- 227.1/227.1 kB 1.4 MB/s eta 0:00:00\n",
      "Requirement already satisfied: cryptography in c:\\users\\user\\anaconda3\\lib\\site-packages (37.0.1)\n",
      "Collecting cryptography\n",
      "  Downloading cryptography-43.0.3-cp39-abi3-win_amd64.whl (3.1 MB)\n",
      "     ---------------------------------------- 3.1/3.1 MB 7.8 MB/s eta 0:00:00\n",
      "Requirement already satisfied: bcrypt>=3.2 in c:\\users\\user\\anaconda3\\lib\\site-packages (from paramiko) (3.2.0)\n",
      "Requirement already satisfied: pynacl>=1.5 in c:\\users\\user\\anaconda3\\lib\\site-packages (from paramiko) (1.5.0)\n",
      "Requirement already satisfied: cffi>=1.12 in c:\\users\\user\\anaconda3\\lib\\site-packages (from cryptography) (1.15.1)\n",
      "Requirement already satisfied: six>=1.4.1 in c:\\users\\user\\anaconda3\\lib\\site-packages (from bcrypt>=3.2->paramiko) (1.16.0)\n",
      "Requirement already satisfied: pycparser in c:\\users\\user\\anaconda3\\lib\\site-packages (from cffi>=1.12->cryptography) (2.21)\n",
      "Installing collected packages: cryptography, paramiko\n",
      "  Attempting uninstall: cryptography\n",
      "    Found existing installation: cryptography 37.0.1\n",
      "    Uninstalling cryptography-37.0.1:\n",
      "      Successfully uninstalled cryptography-37.0.1\n",
      "  Attempting uninstall: paramiko\n",
      "    Found existing installation: paramiko 2.8.1\n",
      "    Uninstalling paramiko-2.8.1:\n",
      "      Successfully uninstalled paramiko-2.8.1\n",
      "Successfully installed cryptography-43.0.3 paramiko-3.5.0\n"
     ]
    },
    {
     "name": "stderr",
     "output_type": "stream",
     "text": [
      "ERROR: pip's dependency resolver does not currently take into account all the packages that are installed. This behaviour is the source of the following dependency conflicts.\n",
      "spyder 5.2.2 requires pyqt5<5.13, which is not installed.\n",
      "spyder 5.2.2 requires pyqtwebengine<5.13, which is not installed.\n"
     ]
    }
   ],
   "source": [
    "!pip install --upgrade paramiko cryptography\n"
   ]
  },
  {
   "cell_type": "code",
   "execution_count": 1,
   "id": "f2e8010b",
   "metadata": {},
   "outputs": [],
   "source": [
    "import os\n",
    "import cv2\n",
    "import numpy as np\n",
    "import xml.etree.ElementTree as ET\n",
    "import albumentations as A"
   ]
  },
  {
   "cell_type": "code",
   "execution_count": 2,
   "id": "02485f44",
   "metadata": {},
   "outputs": [],
   "source": [
    "#Path\n",
    "image_dir = 'Data_Set_Larch_Casebearer/Imagedata'\n",
    "annotation_dir  = 'Data_Set_Larch_Casebearer/Annotations'\n",
    "save_dir = 'Data_Set_Larch_Casebearer/Croppedimages'\n",
    "output_annotation_dir = 'Data_Set_Larch_Casebearer/Augmented_Annotations'\n"
   ]
  },
  {
   "cell_type": "code",
   "execution_count": 3,
   "id": "84eb645e",
   "metadata": {},
   "outputs": [],
   "source": [
    "def parse_xml(xml_file):\n",
    "    tree = ET.parse(xml_file)\n",
    "    root = tree.getroot()\n",
    "\n",
    "    bboxes = []\n",
    "    labels = []\n",
    "\n",
    "   \n",
    "    for obj in root.findall('object'):\n",
    "        # Check if the 'damage' tag exists\n",
    "        damage_tag = obj.find('damage')\n",
    "        if damage_tag is not None:\n",
    "            label = damage_tag.text  # Healthy, Light Damage, High Damage, Others\n",
    "        else:\n",
    "            label = 'unknown'  # Handle the case where 'damage' tag is missing\n",
    "\n",
    "        # Parse bounding box coordinates\n",
    "        bndbox = obj.find('bndbox')\n",
    "        if bndbox is not None:\n",
    "            xmin = int(bndbox.find('xmin').text)\n",
    "            ymin = int(bndbox.find('ymin').text)\n",
    "            xmax = int(bndbox.find('xmax').text)\n",
    "            ymax = int(bndbox.find('ymax').text)\n",
    "            bboxes.append([xmin, ymin, xmax, ymax])\n",
    "            labels.append(label)\n",
    "\n",
    "    return bboxes, labels"
   ]
  },
  {
   "cell_type": "code",
   "execution_count": 6,
   "id": "22d4f2d6",
   "metadata": {},
   "outputs": [],
   "source": [
    "import os\n",
    "import cv2\n",
    "\n",
    "# Function to crop the images based on bounding boxes and save them\n",
    "def crop_and_save_images(image_dir, annotation_dir, save_dir):\n",
    "    # Iterate over all images and corresponding annotations\n",
    "    for img_file in os.listdir(image_dir):\n",
    "        if img_file.endswith('.JPG') or img_file.endswith('.png'):\n",
    "            img_path = os.path.join(image_dir, img_file)\n",
    "            \n",
    "            # Corresponding XML annotation file\n",
    "            xml_file = os.path.join(annotation_dir, os.path.splitext(img_file)[0] + '.xml')\n",
    "            \n",
    "            # Check if the XML file exists\n",
    "            if os.path.exists(xml_file):\n",
    "                # Read image\n",
    "                img = cv2.imread(img_path)\n",
    "                \n",
    "                # Check if the image is loaded correctly\n",
    "                if img is None:\n",
    "                    print(f\"Error: Unable to load image {img_path}\")\n",
    "                    continue  # Skip this image and continue with the next one\n",
    "\n",
    "                # Parse the XML file to get bounding boxes and labels\n",
    "                bboxes, labels = parse_xml(xml_file)\n",
    "\n",
    "                height, width, _ = img.shape\n",
    "                \n",
    "                # Crop and save the trees\n",
    "                for i, bbox in enumerate(bboxes):\n",
    "                    xmin, ymin, xmax, ymax = bbox\n",
    "\n",
    "                    # Validate bounding boxes (make sure they are within the image boundaries)\n",
    "                    if xmin < 0 or ymin < 0 or xmax > width or ymax > height:\n",
    "                        print(f\"Warning: Bounding box {bbox} is out of bounds for image {img_file}\")\n",
    "                        continue  # Skip this bounding box\n",
    "\n",
    "                    # Crop the region defined by the bounding box\n",
    "                    cropped_img = img[ymin:ymax, xmin:xmax]\n",
    "\n",
    "                    # Ensure the cropped image is not empty\n",
    "                    if cropped_img.size > 0:\n",
    "                        label = labels[i]\n",
    "\n",
    "                        # Ensure save directory exists\n",
    "                        if not os.path.exists(save_dir):\n",
    "                            os.makedirs(save_dir)\n",
    "\n",
    "                        # Save cropped image based on label\n",
    "                        cropped_save_path = os.path.join(save_dir, f'{label}_{os.path.splitext(img_file)[0]}_{i}.jpg')\n",
    "                        cv2.imwrite(cropped_save_path, cropped_img)\n",
    "                    else:\n",
    "                        print(f\"Error: Cropped image is empty for bounding box {bbox} in {img_file}\")\n",
    "            else:\n",
    "                print(f\"Error: Annotation file not found for {img_file}\")\n",
    "                continue\n"
   ]
  },
  {
   "cell_type": "code",
   "execution_count": 7,
   "id": "056a6e0d",
   "metadata": {},
   "outputs": [
    {
     "name": "stdout",
     "output_type": "stream",
     "text": [
      "Error: Annotation file not found for B01_0048.JPG\n",
      "Error: Cropped image is empty for bounding box [430, 1084, 430, 1086] in B05_0073.JPG\n",
      "Error: Cropped image is empty for bounding box [603, 1330, 603, 1331] in B08_0008.JPG\n",
      "Error: Cropped image is empty for bounding box [473, 864, 473, 866] in B09_0010.JPG\n"
     ]
    }
   ],
   "source": [
    "crop_and_save_images(image_dir, annotation_dir , save_dir)"
   ]
  },
  {
   "cell_type": "code",
   "execution_count": 17,
   "id": "b26c2956",
   "metadata": {},
   "outputs": [],
   "source": [
    "bbox_params = A.BboxParams(format='pascal_voc', label_fields=['class_labels'])"
   ]
  },
  {
   "cell_type": "code",
   "execution_count": 18,
   "id": "8a3bff8f",
   "metadata": {},
   "outputs": [],
   "source": [
    "#augmentation pipeline\n",
    "augmentation = A.Compose([\n",
    "    A.HorizontalFlip(p=0.5),                # Random horizontal flip\n",
    "    A.VerticalFlip(p=0.5),                  # Random vertical flip\n",
    "    A.RandomRotate90(p=0.5),                 # Random 90-degree rotation      # Random brightness and contrast adjustments\n",
    "    A.ShiftScaleRotate(shift_limit=0.1, scale_limit=0.1, rotate_limit=15, p=0.5),  # Random shift, scale, and rotation\n",
    "    A.Normalize(mean=(0.5, 0.5, 0.5), std=(0.5, 0.5, 0.5)),  # Normalize the image\n",
    "], bbox_params=bbox_params, additional_targets={'mask': 'mask'})  # Ensure the same transformations apply to the mask"
   ]
  },
  {
   "cell_type": "code",
   "execution_count": 19,
   "id": "e3abec7d",
   "metadata": {},
   "outputs": [],
   "source": [
    "# Function to load annotations from XML\n",
    "def load_annotations(xml_file):\n",
    "    tree = ET.parse(xml_file)\n",
    "    root = tree.getroot()\n",
    "    annotations = []\n",
    "    for obj in root.findall('object'):\n",
    "        class_name = obj.find('damage').text\n",
    "        bbox = obj.find('bndbox')\n",
    "        xmin = int(bbox.find('xmin').text)\n",
    "        ymin = int(bbox.find('ymin').text)\n",
    "        xmax = int(bbox.find('xmax').text)\n",
    "        ymax = int(bbox.find('ymax').text)\n",
    "        annotations.append((class_name, (xmin, ymin, xmax, ymax)))\n",
    "    return annotations"
   ]
  },
  {
   "cell_type": "code",
   "execution_count": 20,
   "id": "99d5cd3d",
   "metadata": {},
   "outputs": [],
   "source": [
    "def save_annotations(xml_file, annotations):\n",
    "    root = ET.Element(\"annotation\")\n",
    "    for class_name, (xmin, ymin, xmax, ymax) in annotations:\n",
    "        obj = ET.SubElement(root, \"object\")\n",
    "        ET.SubElement(obj, \"damage\").text = class_name\n",
    "        bndbox = ET.SubElement(obj, \"bndbox\")\n",
    "        ET.SubElement(bndbox, \"xmin\").text = str(xmin)\n",
    "        ET.SubElement(bndbox, \"ymin\").text = str(ymin)\n",
    "        ET.SubElement(bndbox, \"xmax\").text = str(xmax)\n",
    "        ET.SubElement(bndbox, \"ymax\").text = str(ymax)\n",
    "    \n",
    "    tree = ET.ElementTree(root)\n",
    "    tree.write(xml_file)"
   ]
  },
  {
   "cell_type": "code",
   "execution_count": 21,
   "id": "e9e5b041",
   "metadata": {},
   "outputs": [
    {
     "ename": "ValueError",
     "evalue": "Your 'label_fields' are not valid - them must have same names as params in dict",
     "output_type": "error",
     "traceback": [
      "\u001b[1;31m---------------------------------------------------------------------------\u001b[0m",
      "\u001b[1;31mValueError\u001b[0m                                Traceback (most recent call last)",
      "\u001b[1;32m~\\AppData\\Local\\Temp\\ipykernel_11204\\1719429612.py\u001b[0m in \u001b[0;36m<module>\u001b[1;34m\u001b[0m\n\u001b[0;32m     17\u001b[0m \u001b[1;33m\u001b[0m\u001b[0m\n\u001b[0;32m     18\u001b[0m         \u001b[1;31m# Perform augmentation\u001b[0m\u001b[1;33m\u001b[0m\u001b[1;33m\u001b[0m\u001b[0m\n\u001b[1;32m---> 19\u001b[1;33m         \u001b[0maugmented\u001b[0m \u001b[1;33m=\u001b[0m \u001b[0maugmentation\u001b[0m\u001b[1;33m(\u001b[0m\u001b[0mimage\u001b[0m\u001b[1;33m=\u001b[0m\u001b[0mimage\u001b[0m\u001b[1;33m)\u001b[0m\u001b[1;33m\u001b[0m\u001b[1;33m\u001b[0m\u001b[0m\n\u001b[0m\u001b[0;32m     20\u001b[0m         \u001b[0maugmented_image\u001b[0m \u001b[1;33m=\u001b[0m \u001b[0maugmented\u001b[0m\u001b[1;33m[\u001b[0m\u001b[1;34m'image'\u001b[0m\u001b[1;33m]\u001b[0m\u001b[1;33m\u001b[0m\u001b[1;33m\u001b[0m\u001b[0m\n\u001b[0;32m     21\u001b[0m \u001b[1;33m\u001b[0m\u001b[0m\n",
      "\u001b[1;32m~\\anaconda3\\lib\\site-packages\\albumentations\\core\\composition.py\u001b[0m in \u001b[0;36m__call__\u001b[1;34m(self, force_apply, *args, **data)\u001b[0m\n\u001b[0;32m    332\u001b[0m             \u001b[1;32mreturn\u001b[0m \u001b[0mdata\u001b[0m\u001b[1;33m\u001b[0m\u001b[1;33m\u001b[0m\u001b[0m\n\u001b[0;32m    333\u001b[0m \u001b[1;33m\u001b[0m\u001b[0m\n\u001b[1;32m--> 334\u001b[1;33m         \u001b[0mself\u001b[0m\u001b[1;33m.\u001b[0m\u001b[0mpreprocess\u001b[0m\u001b[1;33m(\u001b[0m\u001b[0mdata\u001b[0m\u001b[1;33m)\u001b[0m\u001b[1;33m\u001b[0m\u001b[1;33m\u001b[0m\u001b[0m\n\u001b[0m\u001b[0;32m    335\u001b[0m \u001b[1;33m\u001b[0m\u001b[0m\n\u001b[0;32m    336\u001b[0m         \u001b[1;32mfor\u001b[0m \u001b[0mt\u001b[0m \u001b[1;32min\u001b[0m \u001b[0mself\u001b[0m\u001b[1;33m.\u001b[0m\u001b[0mtransforms\u001b[0m\u001b[1;33m:\u001b[0m\u001b[1;33m\u001b[0m\u001b[1;33m\u001b[0m\u001b[0m\n",
      "\u001b[1;32m~\\anaconda3\\lib\\site-packages\\albumentations\\core\\composition.py\u001b[0m in \u001b[0;36mpreprocess\u001b[1;34m(self, data)\u001b[0m\n\u001b[0;32m    364\u001b[0m         \u001b[1;32mif\u001b[0m \u001b[0mself\u001b[0m\u001b[1;33m.\u001b[0m\u001b[0mmain_compose\u001b[0m\u001b[1;33m:\u001b[0m\u001b[1;33m\u001b[0m\u001b[1;33m\u001b[0m\u001b[0m\n\u001b[0;32m    365\u001b[0m             \u001b[1;32mfor\u001b[0m \u001b[0mp\u001b[0m \u001b[1;32min\u001b[0m \u001b[0mself\u001b[0m\u001b[1;33m.\u001b[0m\u001b[0mprocessors\u001b[0m\u001b[1;33m.\u001b[0m\u001b[0mvalues\u001b[0m\u001b[1;33m(\u001b[0m\u001b[1;33m)\u001b[0m\u001b[1;33m:\u001b[0m\u001b[1;33m\u001b[0m\u001b[1;33m\u001b[0m\u001b[0m\n\u001b[1;32m--> 366\u001b[1;33m                 \u001b[0mp\u001b[0m\u001b[1;33m.\u001b[0m\u001b[0mensure_data_valid\u001b[0m\u001b[1;33m(\u001b[0m\u001b[0mdata\u001b[0m\u001b[1;33m)\u001b[0m\u001b[1;33m\u001b[0m\u001b[1;33m\u001b[0m\u001b[0m\n\u001b[0m\u001b[0;32m    367\u001b[0m             \u001b[1;32mfor\u001b[0m \u001b[0mp\u001b[0m \u001b[1;32min\u001b[0m \u001b[0mself\u001b[0m\u001b[1;33m.\u001b[0m\u001b[0mprocessors\u001b[0m\u001b[1;33m.\u001b[0m\u001b[0mvalues\u001b[0m\u001b[1;33m(\u001b[0m\u001b[1;33m)\u001b[0m\u001b[1;33m:\u001b[0m\u001b[1;33m\u001b[0m\u001b[1;33m\u001b[0m\u001b[0m\n\u001b[0;32m    368\u001b[0m                 \u001b[0mp\u001b[0m\u001b[1;33m.\u001b[0m\u001b[0mpreprocess\u001b[0m\u001b[1;33m(\u001b[0m\u001b[0mdata\u001b[0m\u001b[1;33m)\u001b[0m\u001b[1;33m\u001b[0m\u001b[1;33m\u001b[0m\u001b[0m\n",
      "\u001b[1;32m~\\anaconda3\\lib\\site-packages\\albumentations\\core\\bbox_utils.py\u001b[0m in \u001b[0;36mensure_data_valid\u001b[1;34m(self, data)\u001b[0m\n\u001b[0;32m    117\u001b[0m         \u001b[1;32mif\u001b[0m \u001b[0mself\u001b[0m\u001b[1;33m.\u001b[0m\u001b[0mparams\u001b[0m\u001b[1;33m.\u001b[0m\u001b[0mlabel_fields\u001b[0m \u001b[1;32mand\u001b[0m \u001b[1;32mnot\u001b[0m \u001b[0mall\u001b[0m\u001b[1;33m(\u001b[0m\u001b[0mi\u001b[0m \u001b[1;32min\u001b[0m \u001b[0mdata\u001b[0m \u001b[1;32mfor\u001b[0m \u001b[0mi\u001b[0m \u001b[1;32min\u001b[0m \u001b[0mself\u001b[0m\u001b[1;33m.\u001b[0m\u001b[0mparams\u001b[0m\u001b[1;33m.\u001b[0m\u001b[0mlabel_fields\u001b[0m\u001b[1;33m)\u001b[0m\u001b[1;33m:\u001b[0m\u001b[1;33m\u001b[0m\u001b[1;33m\u001b[0m\u001b[0m\n\u001b[0;32m    118\u001b[0m             \u001b[0mmsg\u001b[0m \u001b[1;33m=\u001b[0m \u001b[1;34m\"Your 'label_fields' are not valid - them must have same names as params in dict\"\u001b[0m\u001b[1;33m\u001b[0m\u001b[1;33m\u001b[0m\u001b[0m\n\u001b[1;32m--> 119\u001b[1;33m             \u001b[1;32mraise\u001b[0m \u001b[0mValueError\u001b[0m\u001b[1;33m(\u001b[0m\u001b[0mmsg\u001b[0m\u001b[1;33m)\u001b[0m\u001b[1;33m\u001b[0m\u001b[1;33m\u001b[0m\u001b[0m\n\u001b[0m\u001b[0;32m    120\u001b[0m \u001b[1;33m\u001b[0m\u001b[0m\n\u001b[0;32m    121\u001b[0m     \u001b[1;32mdef\u001b[0m \u001b[0mfilter\u001b[0m\u001b[1;33m(\u001b[0m\u001b[0mself\u001b[0m\u001b[1;33m,\u001b[0m \u001b[0mdata\u001b[0m\u001b[1;33m:\u001b[0m \u001b[0mnp\u001b[0m\u001b[1;33m.\u001b[0m\u001b[0mndarray\u001b[0m\u001b[1;33m,\u001b[0m \u001b[0mimage_shape\u001b[0m\u001b[1;33m:\u001b[0m \u001b[0mtuple\u001b[0m\u001b[1;33m[\u001b[0m\u001b[0mint\u001b[0m\u001b[1;33m,\u001b[0m \u001b[0mint\u001b[0m\u001b[1;33m]\u001b[0m\u001b[1;33m)\u001b[0m \u001b[1;33m->\u001b[0m \u001b[0mnp\u001b[0m\u001b[1;33m.\u001b[0m\u001b[0mndarray\u001b[0m\u001b[1;33m:\u001b[0m\u001b[1;33m\u001b[0m\u001b[1;33m\u001b[0m\u001b[0m\n",
      "\u001b[1;31mValueError\u001b[0m: Your 'label_fields' are not valid - them must have same names as params in dict"
     ]
    }
   ],
   "source": [
    "# Loop through all images and their corresponding annotations\n",
    "for image_file in os.listdir(image_dir):\n",
    "    if image_file.endswith('.JPG') or image_file.endswith('.png'):\n",
    "        image_path = os.path.join(image_dir, image_file)\n",
    "        xml_file = os.path.join(annotation_dir, image_file.replace('.JPG', '.xml').replace('.png', '.xml'))\n",
    "        \n",
    "        # Check if the XML file exists\n",
    "        if not os.path.exists(xml_file):\n",
    "            print(f\"Warning: Annotation file {xml_file} not found. Skipping {image_file}.\")\n",
    "            continue\n",
    "        \n",
    "        # Load the image\n",
    "        image = cv2.imread(image_path)\n",
    "        \n",
    "        # Load annotations\n",
    "        annotations = load_annotations(xml_file)\n",
    "        \n",
    "        # Perform augmentation\n",
    "        augmented = augmentation(image=image)\n",
    "        augmented_image = augmented['image']\n",
    "        \n",
    "        # Save augmented image\n",
    "        augmented_image_file = os.path.join(output_image_dir, image_file)\n",
    "        cv2.imwrite(augmented_image_file, augmented_image)\n",
    "        \n",
    "        # Update bounding box coordinates based on augmentation\n",
    "        updated_annotations = []\n",
    "        for class_name, (xmin, ymin, xmax, ymax) in annotations:\n",
    "            # Apply the inverse transformations to the bounding boxes\n",
    "            transformed_bbox = augmentation(image=image, bboxes=[(xmin, ymin, xmax, ymax)])['bboxes'][0]\n",
    "            updated_annotations.append((class_name, transformed_bbox))\n",
    "\n",
    "        # Save updated annotations in a new XML file\n",
    "        new_xml_file = os.path.join(output_annotation_dir, image_file.replace('.JPG', '.xml').replace('.png', '.xml'))\n",
    "        save_annotations(new_xml_file, updated_annotations)\n",
    "\n",
    "print(\"Augmentation complete!\")"
   ]
  },
  {
   "cell_type": "code",
   "execution_count": null,
   "id": "3fe68ef9",
   "metadata": {},
   "outputs": [],
   "source": []
  }
 ],
 "metadata": {
  "kernelspec": {
   "display_name": "Python 3 (ipykernel)",
   "language": "python",
   "name": "python3"
  },
  "language_info": {
   "codemirror_mode": {
    "name": "ipython",
    "version": 3
   },
   "file_extension": ".py",
   "mimetype": "text/x-python",
   "name": "python",
   "nbconvert_exporter": "python",
   "pygments_lexer": "ipython3",
   "version": "3.9.13"
  }
 },
 "nbformat": 4,
 "nbformat_minor": 5
}
